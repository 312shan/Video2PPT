{
 "cells": [
  {
   "cell_type": "code",
   "execution_count": 133,
   "metadata": {},
   "outputs": [],
   "source": [
    "f = 'http://hbnm3eqf9mju26279qj.exp.bcevod.com/mda-id2urnnkytge9q34/mda-id2urnnkytge9q34.mp4'"
   ]
  },
  {
   "cell_type": "code",
   "execution_count": 134,
   "metadata": {},
   "outputs": [
    {
     "name": "stdout",
     "output_type": "stream",
     "text": [
      "--2019-03-17 12:37:38--  http://hbnm3eqf9mju26279qj.exp.bcevod.com/mda-id2urnnkytge9q34/mda-id2urnnkytge9q34.mp4\n",
      "正在解析主机 hbnm3eqf9mju26279qj.exp.bcevod.com (hbnm3eqf9mju26279qj.exp.bcevod.com)... 113.96.178.35, 14.215.89.35\n",
      "正在连接 hbnm3eqf9mju26279qj.exp.bcevod.com (hbnm3eqf9mju26279qj.exp.bcevod.com)|113.96.178.35|:80... 已连接。\n",
      "已发出 HTTP 请求，正在等待回应... 200 OK\n",
      "长度： 131889683 (126M) [video/mp4]\n",
      "正在保存至: “mda-id2urnnkytge9q34.mp4”\n",
      "\n",
      "mda-id2urnnkytge9q3 100%[===================>] 125.78M  43.2MB/s    in 2.9s    \n",
      "\n",
      "2019-03-17 12:37:41 (43.2 MB/s) - 已保存 “mda-id2urnnkytge9q34.mp4” [131889683/131889683])\n",
      "\n"
     ]
    }
   ],
   "source": [
    "!wget -c $f"
   ]
  },
  {
   "cell_type": "code",
   "execution_count": 135,
   "metadata": {},
   "outputs": [
    {
     "name": "stdout",
     "output_type": "stream",
     "text": [
      "总用量 128820\r\n",
      "drwxrwxrwx 1 shan shan      4096 3月  17 12:37 .\r\n",
      "drwxrwxrwx 1 shan shan      4096 3月  17 12:37 ..\r\n",
      "drwxrwxrwx 1 shan shan         0 3月  17 10:22 .ipynb_checkpoints\r\n",
      "-rwxrwxrwx 1 shan shan 131889683 4月   3  2018 mda-id2urnnkytge9q34.mp4\r\n",
      "-rwxrwxrwx 1 shan shan     11160 3月  17 12:37 video2image.ipynb\r\n"
     ]
    }
   ],
   "source": [
    "!ls -la"
   ]
  },
  {
   "cell_type": "code",
   "execution_count": 136,
   "metadata": {},
   "outputs": [
    {
     "name": "stdout",
     "output_type": "stream",
     "text": [
      "mkdir: 已创建目录 'image'\r\n"
     ]
    }
   ],
   "source": [
    "!mkdir -v image"
   ]
  },
  {
   "cell_type": "code",
   "execution_count": 137,
   "metadata": {},
   "outputs": [
    {
     "name": "stdout",
     "output_type": "stream",
     "text": [
      "29.998682440434955 32774.0\n"
     ]
    }
   ],
   "source": [
    "import cv2\n",
    "vc = cv2.VideoCapture()\n",
    "vc.open(f)\n",
    "fps = vc.get(cv2.CAP_PROP_FPS)\n",
    "frames = vc.get(cv2.CAP_PROP_FRAME_COUNT)\n",
    "\n",
    "print(fps,frames)\n",
    "\n",
    "for i in range(int(frames)):\n",
    "    ret,frame = vc.read()\n",
    "    if i%100==0:\n",
    "        cv2.imwrite('./image/{}.png'.format(i),frame)"
   ]
  },
  {
   "cell_type": "code",
   "execution_count": 138,
   "metadata": {},
   "outputs": [
    {
     "name": "stdout",
     "output_type": "stream",
     "text": [
      "331\r\n"
     ]
    }
   ],
   "source": [
    "!ls -la image/ | wc -l"
   ]
  },
  {
   "cell_type": "code",
   "execution_count": 139,
   "metadata": {},
   "outputs": [],
   "source": [
    "# !rm image/*"
   ]
  },
  {
   "cell_type": "code",
   "execution_count": 140,
   "metadata": {
    "scrolled": true
   },
   "outputs": [],
   "source": [
    "# !pip install scikit-image"
   ]
  },
  {
   "cell_type": "code",
   "execution_count": 141,
   "metadata": {},
   "outputs": [],
   "source": [
    "from skimage.measure import compare_ssim as ssim"
   ]
  },
  {
   "cell_type": "code",
   "execution_count": 142,
   "metadata": {},
   "outputs": [
    {
     "data": {
      "text/html": [
       "<tr>\n",
       "<td><img src='./image/22800.png',width=300,height=300><td/>\n",
       "<td><img src='./image/22900.png',width=300,height=300><td/>\n",
       "</tr>"
      ],
      "text/plain": [
       "<IPython.core.display.HTML object>"
      ]
     },
     "metadata": {},
     "output_type": "display_data"
    }
   ],
   "source": [
    "%%html\n",
    "<tr>\n",
    "<td><img src='./image/22800.png',width=300,height=300><td/>\n",
    "<td><img src='./image/22900.png',width=300,height=300><td/>\n",
    "</tr>"
   ]
  },
  {
   "cell_type": "code",
   "execution_count": 143,
   "metadata": {},
   "outputs": [
    {
     "data": {
      "text/plain": [
       "0.9900281687216604"
      ]
     },
     "execution_count": 143,
     "metadata": {},
     "output_type": "execute_result"
    }
   ],
   "source": [
    "img1 = cv2.imread('./image/22800.png')\n",
    "\n",
    "img2 = cv2.imread('./image/22900.png')\n",
    "\n",
    "ssim(img1,img2,multichannel=True)"
   ]
  },
  {
   "cell_type": "code",
   "execution_count": 144,
   "metadata": {},
   "outputs": [
    {
     "data": {
      "text/html": [
       "<tr>\n",
       "<td><img src='./image/2200.png',width=300,height=300><td/>\n",
       "<td><img src='./image/2300.png',width=300,height=300><td/>\n",
       "</tr>"
      ],
      "text/plain": [
       "<IPython.core.display.HTML object>"
      ]
     },
     "metadata": {},
     "output_type": "display_data"
    }
   ],
   "source": [
    "%%html\n",
    "<tr>\n",
    "<td><img src='./image/2200.png',width=300,height=300><td/>\n",
    "<td><img src='./image/2300.png',width=300,height=300><td/>\n",
    "</tr>"
   ]
  },
  {
   "cell_type": "code",
   "execution_count": 145,
   "metadata": {},
   "outputs": [
    {
     "data": {
      "text/plain": [
       "0.8114736419070407"
      ]
     },
     "execution_count": 145,
     "metadata": {},
     "output_type": "execute_result"
    }
   ],
   "source": [
    "img1 = cv2.imread('./image/2200.png')\n",
    "\n",
    "img2 = cv2.imread('./image/2300.png')\n",
    "\n",
    "ssim(img1,img2,multichannel=True)"
   ]
  },
  {
   "cell_type": "code",
   "execution_count": 146,
   "metadata": {},
   "outputs": [
    {
     "data": {
      "text/plain": [
       "(720, 1280, 3)"
      ]
     },
     "execution_count": 146,
     "metadata": {},
     "output_type": "execute_result"
    }
   ],
   "source": [
    "img1.shape"
   ]
  },
  {
   "cell_type": "code",
   "execution_count": 147,
   "metadata": {},
   "outputs": [
    {
     "data": {
      "text/plain": [
       "(720, 1280, 3)"
      ]
     },
     "execution_count": 147,
     "metadata": {},
     "output_type": "execute_result"
    }
   ],
   "source": [
    "img2.shape"
   ]
  },
  {
   "cell_type": "code",
   "execution_count": 148,
   "metadata": {},
   "outputs": [],
   "source": [
    "import numpy as np\n",
    "pre = np.zeros_like(img1)"
   ]
  },
  {
   "cell_type": "code",
   "execution_count": 149,
   "metadata": {},
   "outputs": [
    {
     "name": "stdout",
     "output_type": "stream",
     "text": [
      "mkdir: 已创建目录 'image-no-duplicate'\r\n"
     ]
    }
   ],
   "source": [
    "!mkdir -v image-no-duplicate"
   ]
  },
  {
   "cell_type": "code",
   "execution_count": 150,
   "metadata": {},
   "outputs": [
    {
     "name": "stdout",
     "output_type": "stream",
     "text": [
      "29.998682440434955 32774.0\n"
     ]
    }
   ],
   "source": [
    "vc = cv2.VideoCapture()\n",
    "vc.open(f)\n",
    "fps = vc.get(cv2.CAP_PROP_FPS)\n",
    "frames = vc.get(cv2.CAP_PROP_FRAME_COUNT)\n",
    "print(fps,frames)\n",
    "for i in range(int(frames)):\n",
    "    ret,frame = vc.read()\n",
    "    if frame is None:\n",
    "        continue\n",
    "    if i%100==0 and ssim(pre,frame,multichannel=True)<0.95:\n",
    "        cv2.imwrite('./image-no-duplicate/{}.png'.format(i),frame)\n",
    "        pre = frame"
   ]
  },
  {
   "cell_type": "code",
   "execution_count": 151,
   "metadata": {},
   "outputs": [
    {
     "name": "stdout",
     "output_type": "stream",
     "text": [
      "总用量 6492\r\n",
      "drwxrwxrwx 1 shan shan    456 3月  17 12:40 .\r\n",
      "drwxrwxrwx 1 shan shan   4096 3月  17 12:40 ..\r\n",
      "-rwxrwxrwx 1 shan shan 311718 3月  17 12:38 0.png\r\n",
      "-rwxrwxrwx 1 shan shan 291906 3月  17 12:39 10500.png\r\n",
      "-rwxrwxrwx 1 shan shan 245778 3月  17 12:38 1100.png\r\n",
      "-rwxrwxrwx 1 shan shan 249943 3月  17 12:39 12300.png\r\n",
      "-rwxrwxrwx 1 shan shan 150646 3月  17 12:39 12400.png\r\n",
      "-rwxrwxrwx 1 shan shan 239003 3月  17 12:39 15000.png\r\n",
      "-rwxrwxrwx 1 shan shan 356087 3月  17 12:38 1600.png\r\n",
      "-rwxrwxrwx 1 shan shan 413238 3月  17 12:40 19800.png\r\n",
      "-rwxrwxrwx 1 shan shan 525814 3月  17 12:38 2300.png\r\n",
      "-rwxrwxrwx 1 shan shan 579438 3月  17 12:40 24400.png\r\n",
      "-rwxrwxrwx 1 shan shan 351528 3月  17 12:40 28900.png\r\n",
      "-rwxrwxrwx 1 shan shan 343279 3月  17 12:40 29000.png\r\n",
      "-rwxrwxrwx 1 shan shan 554839 3月  17 12:40 29800.png\r\n",
      "-rwxrwxrwx 1 shan shan 546778 3月  17 12:40 30000.png\r\n",
      "-rwxrwxrwx 1 shan shan 471844 3月  17 12:38 3500.png\r\n",
      "-rwxrwxrwx 1 shan shan 301972 3月  17 12:39 6300.png\r\n",
      "-rwxrwxrwx 1 shan shan 675348 3月  17 12:39 6700.png\r\n"
     ]
    }
   ],
   "source": [
    "!ls -la ./image-no-duplicate/"
   ]
  },
  {
   "cell_type": "code",
   "execution_count": 152,
   "metadata": {},
   "outputs": [],
   "source": [
    "import os"
   ]
  },
  {
   "cell_type": "code",
   "execution_count": 153,
   "metadata": {},
   "outputs": [],
   "source": [
    "root = './image-no-duplicate/'\n",
    "frames = []\n",
    "for i in os.listdir(root):\n",
    "    if not os.path.isdir(i):\n",
    "        f = os.path.join(root,i)\n",
    "        frames.append(\"<img src='{}',width=300,height=300>\".format(f))"
   ]
  },
  {
   "cell_type": "code",
   "execution_count": 154,
   "metadata": {},
   "outputs": [
    {
     "data": {
      "text/html": [
       "<img src='./image-no-duplicate/0.png',width=300,height=300><img src='./image-no-duplicate/10500.png',width=300,height=300><img src='./image-no-duplicate/1100.png',width=300,height=300><img src='./image-no-duplicate/12300.png',width=300,height=300><img src='./image-no-duplicate/12400.png',width=300,height=300><img src='./image-no-duplicate/15000.png',width=300,height=300><img src='./image-no-duplicate/1600.png',width=300,height=300><img src='./image-no-duplicate/19800.png',width=300,height=300><img src='./image-no-duplicate/2300.png',width=300,height=300><img src='./image-no-duplicate/24400.png',width=300,height=300><img src='./image-no-duplicate/28900.png',width=300,height=300><img src='./image-no-duplicate/29000.png',width=300,height=300><img src='./image-no-duplicate/29800.png',width=300,height=300><img src='./image-no-duplicate/30000.png',width=300,height=300><img src='./image-no-duplicate/3500.png',width=300,height=300><img src='./image-no-duplicate/6300.png',width=300,height=300><img src='./image-no-duplicate/6700.png',width=300,height=300>"
      ],
      "text/plain": [
       "<IPython.core.display.HTML object>"
      ]
     },
     "metadata": {},
     "output_type": "display_data"
    }
   ],
   "source": [
    "from IPython.display import HTML, display\n",
    "display(HTML(''.join(frames)))"
   ]
  },
  {
   "cell_type": "markdown",
   "metadata": {
    "scrolled": true
   },
   "source": [
    "![也可以用markdown 展示，或者导出为 markdown](http://localhost:8888/files/image-no-duplicate/30000.png)"
   ]
  },
  {
   "cell_type": "code",
   "execution_count": 171,
   "metadata": {},
   "outputs": [],
   "source": [
    "root = './image-no-duplicate/'\n",
    "with open('my_markdown.md','w') as out:\n",
    "    for i in os.listdir(root):\n",
    "        if not os.path.isdir(i):\n",
    "            f = os.path.join(root,i)\n",
    "            out.write(\"![也可以用markdown 展示，或者导出为 markdown](http://localhost:8888/files/image-no-duplicate/30000.png)\\n\".format(f))    "
   ]
  },
  {
   "cell_type": "code",
   "execution_count": 155,
   "metadata": {},
   "outputs": [],
   "source": [
    "#参考\n",
    "\n",
    "# 图片相似度\n",
    "#https://www.pyimagesearch.com/2014/09/15/python-compare-two-images/\n",
    "# http://python.jobbole.com/81277/\n",
    "\n",
    "#图片到 pdf\n",
    "# https://stackoverflow.com/questions/27327513/create-pdf-from-a-list-of-images"
   ]
  }
 ],
 "metadata": {
  "kernelspec": {
   "display_name": "Python 3",
   "language": "python",
   "name": "python3"
  },
  "language_info": {
   "codemirror_mode": {
    "name": "ipython",
    "version": 3
   },
   "file_extension": ".py",
   "mimetype": "text/x-python",
   "name": "python",
   "nbconvert_exporter": "python",
   "pygments_lexer": "ipython3",
   "version": "3.5.2"
  }
 },
 "nbformat": 4,
 "nbformat_minor": 2
}
